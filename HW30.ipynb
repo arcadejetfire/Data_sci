{
 "cells": [
  {
   "cell_type": "markdown",
   "id": "69c77849-74bb-45be-9156-be4388f1f8b1",
   "metadata": {},
   "source": [
    "1) github allows you to work on multiple instances of the same code simultaneously, and allows you to merge changes.\n",
    "2) Version control allows you to \"fork\" a specific program and experiment with it in any way you please without editing the \"master\" version. And if you improve the program and your experiment is successful, then you can \"merge\" your experimental version into the \"master\", while allowing you to view exactly what you are changeing with new code. In my own project, it will allow me to fork the csv for cleaning, without compromising the original data if I make any mistakes. It will also allow me to revert changes if I make any mistakes.\n",
    "3) I have run into the utter frustration of database version management, where two people work with different csv versions and clean with a SLIGHTLY different filter, which leads to a roughly 13 record discrepancy and you cannot figure out which of the records are \"missing\" from whose. Either one person cleaned too much or the other not enough, and you cannot figure out how the two filters are possibly different. Github sidesteps all of it because it identifies discrepancies on each pull request."
   ]
  },
  {
   "cell_type": "code",
   "execution_count": null,
   "id": "c4250b60-6507-45b1-a094-91a67fad4e29",
   "metadata": {},
   "outputs": [],
   "source": [
    "x = 1"
   ]
  }
 ],
 "metadata": {
  "kernelspec": {
   "display_name": "Python 3 (ipykernel)",
   "language": "python",
   "name": "python3"
  },
  "language_info": {
   "codemirror_mode": {
    "name": "ipython",
    "version": 3
   },
   "file_extension": ".py",
   "mimetype": "text/x-python",
   "name": "python",
   "nbconvert_exporter": "python",
   "pygments_lexer": "ipython3",
   "version": "3.12.5"
  }
 },
 "nbformat": 4,
 "nbformat_minor": 5
}
